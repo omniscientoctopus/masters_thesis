{
 "metadata": {
  "language_info": {
   "codemirror_mode": {
    "name": "ipython",
    "version": 3
   },
   "file_extension": ".py",
   "mimetype": "text/x-python",
   "name": "python",
   "nbconvert_exporter": "python",
   "pygments_lexer": "ipython3",
   "version": "3.6.13"
  },
  "orig_nbformat": 4,
  "kernelspec": {
   "name": "python3",
   "display_name": "Python 3.6.13 64-bit ('uq_matlab': conda)"
  },
  "interpreter": {
   "hash": "81f210cd5dcd35cb0a15aa45415a139281dabdc726128a552d7e7a882a257bd3"
  }
 },
 "nbformat": 4,
 "nbformat_minor": 2,
 "cells": [
  {
   "cell_type": "code",
   "execution_count": 1,
   "source": [
    "# Bring your packages onto the path\n",
    "import sys, os\n",
    "# include directory 3 levels up \n",
    "# for 1 level up '..' \n",
    "# for 2 levels '../..'\n",
    "sys.path.append(os.path.abspath(os.path.join('../../..')))"
   ],
   "outputs": [],
   "metadata": {}
  },
  {
   "cell_type": "code",
   "execution_count": 2,
   "source": [
    "import numpy as np \n",
    "import matplotlib.pyplot as plt\n",
    "\n",
    "# custom modules\n",
    "from Models.Chaboche_Model.ChabocheModel import ChabocheModel\n",
    "from Models.Chaboche_Model.ChabocheModel import generate_model_evaluations "
   ],
   "outputs": [],
   "metadata": {}
  },
  {
   "cell_type": "code",
   "execution_count": 3,
   "source": [
    "t_min = 0\n",
    "t_max = 2\n",
    "delta_t = 1e-3 # time step\n",
    "n_t = int((t_max-t_min)/delta_t)\n",
    "T = np.linspace(t_min, t_max, n_t+1)\n",
    "\n",
    "max_strain = 5e-2\n",
    "time_to_max_strain = 1\n",
    "\n",
    "model = ChabocheModel('1D', 'monotonic', max_strain, time_to_max_strain)"
   ],
   "outputs": [],
   "metadata": {}
  },
  {
   "cell_type": "code",
   "execution_count": 4,
   "source": [
    "# Material properties\n",
    "# YM: Young's Modulus [N/mm²]\n",
    "# v: Poisson's ratio\n",
    "# sigma_y: initial yield limit [N/mm²]\n",
    "E, v, sigma_y = 2e5, 0.3, 250\n",
    "\n",
    "## Isotropic hardening\n",
    "# Q_iso: Isotropic asymptote [ 80 N/mm²] \n",
    "# n_iso: exponent [3]\n",
    "# b_iso: growth rate [10]\n",
    "# D_iso: limit [170 N/mm²]\n",
    "Q_iso, n_iso, b_iso, D_iso = 50, 2, 100, 50\n",
    "\n",
    "## Kinematic hardening\n",
    "# Q_kin = Kinematic asymptote [N/mm²]\n",
    "# b_kin: growth rate\n",
    "Q_kin, b_kin = 0, 0"
   ],
   "outputs": [],
   "metadata": {}
  },
  {
   "cell_type": "markdown",
   "source": [
    "# Parameter n"
   ],
   "metadata": {}
  },
  {
   "cell_type": "code",
   "execution_count": 5,
   "source": [
    "# Material properties\n",
    "n_iso_values = [1,2,3,4,5,6]\n",
    "\n",
    "'''\n",
    "Inputs:\n",
    "        0: Young's Modulus\n",
    "        1: initial yield limit\n",
    "        2: Q_iso\n",
    "        3: b_iso\n",
    "        4: n_iso\n",
    "        5: sigma_D\n",
    "        6: Q_kin\n",
    "        7: b_kin\n",
    "'''\n",
    "\n",
    "SampleSpace = np.array([ [E]*6, \n",
    "                         [sigma_y]*6, \n",
    "                         [Q_iso]*6, \n",
    "                         [b_iso]*6, \n",
    "                         n_iso_values, \n",
    "                         [D_iso]*6, \n",
    "                         [Q_kin]*6, \n",
    "                         [b_kin]*6 ])"
   ],
   "outputs": [],
   "metadata": {}
  },
  {
   "cell_type": "code",
   "execution_count": 6,
   "source": [
    "func_evaluations = generate_model_evaluations(model, t_min, t_max, delta_t, 'implicit', SampleSpace.T, parallel_computation = True)"
   ],
   "outputs": [],
   "metadata": {}
  },
  {
   "cell_type": "code",
   "execution_count": 7,
   "source": [
    "fig, ax = plt.subplots(figsize=(5,4))\n",
    "\n",
    "for j, n_iso in enumerate(n_iso_values):\n",
    "    ax.plot(T, func_evaluations[:, j], label = r'$n$=' + str(n_iso))\n",
    "\n",
    "textstr = '\\n'.join(( r'$E$=%.2e' % (E, ),\n",
    "                      r'$\\sigma_y$=%.f' % (sigma_y,),\n",
    "                      r'$\\sigma_D$=%.f' % (D_iso,),\n",
    "                      r'$Q_k$=%.0f' % (Q_iso, ),\n",
    "                      r'$b_k$=%.0f' % (b_iso, ) ))\n",
    "\n",
    "# these are matplotlib.patch.Patch properties\n",
    "props = dict(facecolor='white', alpha=0.5)\n",
    "\n",
    "ax.text(0.45, 0.6, textstr, verticalalignment = 'baseline', transform=ax.transAxes, fontsize=10, bbox=props)\n",
    "\n",
    "ax.set_title(r'Stress v/s time')\n",
    "ax.set_xlabel('t in [s]')\n",
    "ax.set_ylabel(r'$\\sigma_{11} [N/mm^2]$')\n",
    "ax.set_ylim(0,1000)\n",
    "ax.grid()\n",
    "ax.legend()\n",
    "\n",
    "plt.savefig('Images/n.jpeg', bbox_inches = \"tight\", dpi = 300)\n",
    "\n",
    "plt.show()"
   ],
   "outputs": [
    {
     "output_type": "display_data",
     "data": {
      "text/plain": [
       "<Figure size 360x288 with 1 Axes>"
      ],
      "image/png": "[encoded data removed]"
     },
     "metadata": {
      "needs_background": "light"
     }
    }
   ],
   "metadata": {}
  },
  {
   "cell_type": "code",
   "execution_count": 8,
   "source": [
    "# Material properties\n",
    "# YM: Young's Modulus [N/mm²]\n",
    "# v: Poisson's ratio\n",
    "# sigma_y: initial yield limit [N/mm²]\n",
    "E, v, sigma_y = 2e5, 0.3, 250\n",
    "\n",
    "## Isotropic hardening\n",
    "# Q_iso: Isotropic asymptote [ 80 N/mm²] \n",
    "# n_iso: exponent [3]\n",
    "# b_iso: growth rate [10]\n",
    "# D_iso: limit [170 N/mm²]\n",
    "Q_iso, n_iso, b_iso, D_iso = 50, 2, 100, 50\n",
    "\n",
    "## Kinematic hardening\n",
    "# Q_kin = Kinematic asymptote [N/mm²]\n",
    "# b_kin: growth rate\n",
    "Q_kin, b_kin = 0, 0"
   ],
   "outputs": [],
   "metadata": {}
  },
  {
   "cell_type": "markdown",
   "source": [
    "# Parameter $\\sigma_D$"
   ],
   "metadata": {}
  },
  {
   "cell_type": "code",
   "execution_count": 9,
   "source": [
    "number_of_samples = 5\n",
    "D_iso_values = list(np.linspace(1,100,number_of_samples))\n",
    "\n",
    "'''\n",
    "Inputs:\n",
    "        0: Young's Modulus\n",
    "        1: initial yield limit\n",
    "        2: Q_iso\n",
    "        3: b_iso\n",
    "        4: n_iso\n",
    "        5: sigma_D\n",
    "        6: Q_kin\n",
    "        7: b_kin\n",
    "'''\n",
    "\n",
    "SampleSpace = np.array([ [E]*number_of_samples, \n",
    "                         [sigma_y]*number_of_samples, \n",
    "                         [Q_iso]*number_of_samples, \n",
    "                         [b_iso]*number_of_samples, \n",
    "                         [n_iso]*number_of_samples, \n",
    "                         D_iso_values, \n",
    "                         [Q_kin]*number_of_samples, \n",
    "                         [b_kin]*number_of_samples ])"
   ],
   "outputs": [],
   "metadata": {}
  },
  {
   "cell_type": "code",
   "execution_count": 10,
   "source": [
    "func_evaluations = generate_model_evaluations(model, t_min, t_max, delta_t, 'implicit', SampleSpace.T, parallel_computation = True)"
   ],
   "outputs": [],
   "metadata": {}
  },
  {
   "cell_type": "code",
   "execution_count": 11,
   "source": [
    "fig, ax = plt.subplots(figsize=(5,4))\n",
    "\n",
    "# Plot curves for various parameters\n",
    "for j, D_iso in enumerate(D_iso_values):\n",
    "    ax.plot(T, func_evaluations[:, j], label = r'$\\sigma_D$=' + str(D_iso))\n",
    "\n",
    "textstr = '\\n'.join(( r'$E$=%.2e' % (E, ),\n",
    "                      r'$\\sigma_y$=%.f' % (sigma_y,),\n",
    "                      r'$n$ =%.f' % (n_iso,),\n",
    "                      r'$Q_k$=%.0f' % (Q_iso, ),\n",
    "                      r'$b_k$=%.0f' % (b_iso, ) ))\n",
    "\n",
    "# these are matplotlib.patch.Patch properties\n",
    "props = dict(facecolor='white', alpha=0.5)\n",
    "\n",
    "ax.text(0.4, 0.65, textstr, verticalalignment = 'baseline', transform=ax.transAxes, fontsize=10, bbox=props)\n",
    "\n",
    "ax.set_title(r'Stress v/s time')\n",
    "ax.set_xlabel('t in [s]')\n",
    "ax.set_ylabel(r'$\\sigma_{11} [N/mm^2]$')\n",
    "ax.set_ylim(0,1000)\n",
    "ax.grid()\n",
    "ax.legend()\n",
    "\n",
    "plt.savefig('Images/D_iso.jpeg', bbox_inches = \"tight\", dpi = 300)\n",
    "\n",
    "plt.show()"
   ],
   "outputs": [
    {
     "output_type": "display_data",
     "data": {
      "text/plain": [
       "<Figure size 360x288 with 1 Axes>"
      ],
      "image/png": "[encoded data removed]"
     },
     "metadata": {
      "needs_background": "light"
     }
    }
   ],
   "metadata": {}
  },
  {
   "cell_type": "code",
   "execution_count": 12,
   "source": [
    "# Material properties\n",
    "# YM: Young's Modulus [N/mm²]\n",
    "# v: Poisson's ratio\n",
    "# sigma_y: initial yield limit [N/mm²]\n",
    "E, v, sigma_y = 2e5, 0.3, 250\n",
    "\n",
    "## Isotropic hardening\n",
    "# Q_iso: Isotropic asymptote [ 80 N/mm²] \n",
    "# n_iso: exponent [3]\n",
    "# b_iso: growth rate [10]\n",
    "# D_iso: limit [170 N/mm²]\n",
    "Q_iso, n_iso, b_iso, D_iso = 50, 2, 100, 50\n",
    "\n",
    "## Kinematic hardening\n",
    "# Q_kin = Kinematic asymptote [N/mm²]\n",
    "# b_kin: growth rate\n",
    "Q_kin, b_kin = 0, 0"
   ],
   "outputs": [],
   "metadata": {}
  },
  {
   "cell_type": "markdown",
   "source": [
    "# Parameter $Q_{iso}$"
   ],
   "metadata": {}
  },
  {
   "cell_type": "code",
   "execution_count": 13,
   "source": [
    "number_of_samples = 5\n",
    "Q_iso_values = list(np.linspace(0,500,number_of_samples))\n",
    "\n",
    "'''\n",
    "Inputs:\n",
    "        0: Young's Modulus\n",
    "        1: initial yield limit\n",
    "        2: Q_iso\n",
    "        3: b_iso\n",
    "        4: n_iso\n",
    "        5: sigma_D\n",
    "        6: Q_kin\n",
    "        7: b_kin\n",
    "'''\n",
    "\n",
    "SampleSpace = np.array([ [E]*number_of_samples, \n",
    "                         [sigma_y]*number_of_samples, \n",
    "                         Q_iso_values, \n",
    "                         [b_iso]*number_of_samples, \n",
    "                         [n_iso]*number_of_samples, \n",
    "                         [D_iso]*number_of_samples, \n",
    "                         [Q_kin]*number_of_samples, \n",
    "                         [b_kin]*number_of_samples ])\n",
    "\n"
   ],
   "outputs": [],
   "metadata": {}
  },
  {
   "cell_type": "code",
   "execution_count": 14,
   "source": [
    "func_evaluations = generate_model_evaluations(model, t_min, t_max, delta_t, 'implicit', SampleSpace.T, parallel_computation = True)"
   ],
   "outputs": [],
   "metadata": {}
  },
  {
   "cell_type": "code",
   "execution_count": 15,
   "source": [
    "fig, ax = plt.subplots(figsize=(5,4))\n",
    "\n",
    "# Plot curves for various parameters\n",
    "for j, Q_iso in enumerate(Q_iso_values):\n",
    "    ax.plot(T, func_evaluations[:, j], label = r'$Q_{iso}$=' + str(Q_iso))\n",
    "\n",
    "textstr = '\\n'.join(( r'$E$=%.2e' % (E, ),\n",
    "                      r'$\\sigma_y$=%.f' % (sigma_y,),\n",
    "                      r'$n$=%.f' % (n_iso,),\n",
    "                      r'$\\sigma_D$=%.0f' % (D_iso, ),\n",
    "                      r'$b_k$=%.0f' % (b_iso, ) ))\n",
    "\n",
    "# these are matplotlib.patch.Patch properties\n",
    "props = dict(facecolor='white', alpha=0.5)\n",
    "\n",
    "ax.text(0.45, 0.65, textstr, verticalalignment = 'baseline', transform=ax.transAxes, fontsize=10, bbox=props)\n",
    "\n",
    "ax.set_title(r'Stress v/s time')\n",
    "ax.set_xlabel('t in [s]')\n",
    "ax.set_ylabel(r'$\\sigma_{11} [N/mm^2]$')\n",
    "ax.set_ylim(0,1000)\n",
    "ax.grid()\n",
    "ax.legend()\n",
    "\n",
    "plt.savefig('Images/Q_iso.jpeg', bbox_inches = \"tight\", dpi = 300)\n",
    "\n",
    "plt.show()"
   ],
   "outputs": [
    {
     "output_type": "display_data",
     "data": {
      "text/plain": [
       "<Figure size 360x288 with 1 Axes>"
      ],
      "image/png": "[encoded data removed]"
     },
     "metadata": {
      "needs_background": "light"
     }
    }
   ],
   "metadata": {}
  },
  {
   "cell_type": "code",
   "execution_count": 16,
   "source": [
    "# Material properties\n",
    "# YM: Young's Modulus [N/mm²]\n",
    "# v: Poisson's ratio\n",
    "# sigma_y: initial yield limit [N/mm²]\n",
    "E, v, sigma_y = 2e5, 0.3, 250\n",
    "\n",
    "## Isotropic hardening\n",
    "# Q_iso: Isotropic asymptote [ 80 N/mm²] \n",
    "# n_iso: exponent [3]\n",
    "# b_iso: growth rate [10]\n",
    "# D_iso: limit [170 N/mm²]\n",
    "Q_iso, n_iso, b_iso, D_iso = 50, 2, 100, 50\n",
    "\n",
    "## Kinematic hardening\n",
    "# Q_kin = Kinematic asymptote [N/mm²]\n",
    "# b_kin: growth rate\n",
    "Q_kin, b_kin = 0, 0"
   ],
   "outputs": [],
   "metadata": {}
  },
  {
   "cell_type": "markdown",
   "source": [
    "# Parameter $\\sigma_{y|0}$"
   ],
   "metadata": {}
  },
  {
   "cell_type": "code",
   "execution_count": 17,
   "source": [
    "number_of_samples = 5\n",
    "sigma_y_values = list(np.linspace(200,400,number_of_samples))\n",
    "\n",
    "\n",
    "'''\n",
    "Inputs:\n",
    "        0: Young's Modulus\n",
    "        1: initial yield limit\n",
    "        2: Q_iso\n",
    "        3: b_iso\n",
    "        4: n_iso\n",
    "        5: sigma_D\n",
    "        6: Q_kin\n",
    "        7: b_kin\n",
    "'''\n",
    "\n",
    "SampleSpace = np.array([ [E]*number_of_samples, \n",
    "                         sigma_y_values, \n",
    "                         [Q_iso]*number_of_samples, \n",
    "                         [b_iso]*number_of_samples, \n",
    "                         [n_iso]*number_of_samples, \n",
    "                         [D_iso]*number_of_samples, \n",
    "                         [Q_kin]*number_of_samples, \n",
    "                         [b_kin]*number_of_samples ])"
   ],
   "outputs": [],
   "metadata": {}
  },
  {
   "cell_type": "code",
   "execution_count": 18,
   "source": [
    "func_evaluations = generate_model_evaluations(model, t_min, t_max, delta_t, 'implicit', SampleSpace.T, parallel_computation = True)"
   ],
   "outputs": [],
   "metadata": {}
  },
  {
   "cell_type": "code",
   "execution_count": 19,
   "source": [
    "fig, ax = plt.subplots(figsize=(5,4))\n",
    "\n",
    "# Plot curves for various parameters\n",
    "for j, sigma_y in enumerate(sigma_y_values):\n",
    "    ax.plot(T, func_evaluations[:, j], label = r'$\\sigma_{y|0}$=' + str(sigma_y))\n",
    "\n",
    "textstr = '\\n'.join(( r'$E$=%.2e' % (E, ),\n",
    "                      r'$n$=%.f' % (n_iso,),\n",
    "                      r'$\\sigma_D$=%.0f' % (D_iso, ),\n",
    "                      r'$Q_{iso}$=%.f' % (Q_iso,),\n",
    "                      r'$b_k$=%.0f' % (b_iso, ) ))\n",
    "\n",
    "# these are matplotlib.patch.Patch properties\n",
    "props = dict(facecolor='white', alpha=0.5)\n",
    "\n",
    "ax.text(0.4, 0.65, textstr, verticalalignment = 'baseline', transform=ax.transAxes, fontsize=10, bbox=props)\n",
    "\n",
    "ax.set_title(r'Stress v/s time')\n",
    "ax.set_xlabel('t in [s]')\n",
    "ax.set_ylabel(r'$\\sigma_{11} [N/mm^2]$')\n",
    "ax.set_ylim(0,1000)\n",
    "ax.grid()\n",
    "ax.legend()\n",
    "\n",
    "plt.savefig('Images/sigma_y.jpeg', bbox_inches = \"tight\", dpi = 300)\n",
    "\n",
    "plt.show()"
   ],
   "outputs": [
    {
     "output_type": "display_data",
     "data": {
      "text/plain": [
       "<Figure size 360x288 with 1 Axes>"
      ],
      "image/png": "[encoded data removed]"
     },
     "metadata": {
      "needs_background": "light"
     }
    }
   ],
   "metadata": {}
  },
  {
   "cell_type": "code",
   "execution_count": 20,
   "source": [
    "# Material properties\n",
    "# YM: Young's Modulus [N/mm²]\n",
    "# v: Poisson's ratio\n",
    "# sigma_y: initial yield limit [N/mm²]\n",
    "E, v, sigma_y = 2e5, 0.3, 250\n",
    "\n",
    "## Isotropic hardening\n",
    "# Q_iso: Isotropic asymptote [ 80 N/mm²] \n",
    "# n_iso: exponent [3]\n",
    "# b_iso: growth rate [10]\n",
    "# D_iso: limit [170 N/mm²]\n",
    "Q_iso, n_iso, b_iso, D_iso = 50, 2, 100, 50\n",
    "\n",
    "## Kinematic hardening\n",
    "# Q_kin = Kinematic asymptote [N/mm²]\n",
    "# b_kin: growth rate\n",
    "Q_kin, b_kin = 0, 0"
   ],
   "outputs": [],
   "metadata": {}
  },
  {
   "cell_type": "markdown",
   "source": [
    "# Parameter $b_{iso}$"
   ],
   "metadata": {}
  },
  {
   "cell_type": "code",
   "execution_count": 21,
   "source": [
    "number_of_samples = 5\n",
    "b_iso_values = list(np.linspace(0,1000,number_of_samples))\n",
    "\n",
    "'''\n",
    "Inputs:\n",
    "        0: Young's Modulus\n",
    "        1: initial yield limit\n",
    "        2: Q_iso\n",
    "        3: b_iso\n",
    "        4: n_iso\n",
    "        5: sigma_D\n",
    "        6: Q_kin\n",
    "        7: b_kin\n",
    "'''\n",
    "\n",
    "SampleSpace = np.array([ [E]*number_of_samples, \n",
    "                         [sigma_y]*number_of_samples, \n",
    "                         [Q_iso]*number_of_samples, \n",
    "                         b_iso_values, \n",
    "                         [n_iso]*number_of_samples, \n",
    "                         [D_iso]*number_of_samples, \n",
    "                         [Q_kin]*number_of_samples, \n",
    "                         [b_kin]*number_of_samples ])"
   ],
   "outputs": [],
   "metadata": {}
  },
  {
   "cell_type": "code",
   "execution_count": 22,
   "source": [
    "func_evaluations = generate_model_evaluations(model, t_min, t_max, delta_t, 'implicit', SampleSpace.T, parallel_computation = True)"
   ],
   "outputs": [],
   "metadata": {}
  },
  {
   "cell_type": "code",
   "execution_count": 23,
   "source": [
    "fig, ax = plt.subplots(figsize=(5,4))\n",
    "\n",
    "# Plot curves for various parameters\n",
    "for j, b_iso in enumerate(b_iso_values):\n",
    "    ax.plot(T, func_evaluations[:, j], label = r'$b_{iso}$=' + str(b_iso))\n",
    "\n",
    "textstr = '\\n'.join(( r'$E$=%.2e' % (E, ),\n",
    "                      r'$n$=%.f' % (n_iso,),\n",
    "                      r'$\\sigma_y$=%.0f' % (sigma_y, ),\n",
    "                      r'$\\sigma_D$=%.0f' % (D_iso, ),\n",
    "                      r'$Q_{iso}$=%.f' % (Q_iso,) ))\n",
    "\n",
    "# these are matplotlib.patch.Patch properties\n",
    "props = dict(facecolor='white', alpha=0.5)\n",
    "\n",
    "ax.text(0.35, 0.65, textstr, verticalalignment = 'baseline', transform=ax.transAxes, fontsize=10, bbox=props)\n",
    "\n",
    "ax.set_title(r'Stress v/s time')\n",
    "ax.set_xlabel('t in [s]')\n",
    "ax.set_ylabel(r'$\\sigma_{11} [N/mm^2]$')\n",
    "ax.set_ylim(0,1000)\n",
    "ax.grid()\n",
    "ax.legend()\n",
    "\n",
    "plt.savefig('Images/b_iso.jpeg', bbox_inches = \"tight\", dpi = 300)\n",
    "\n",
    "plt.show()"
   ],
   "outputs": [
    {
     "output_type": "display_data",
     "data": {
      "text/plain": [
       "<Figure size 360x288 with 1 Axes>"
      ],
      "image/png": "[encoded data removed]"
     },
     "metadata": {
      "needs_background": "light"
     }
    }
   ],
   "metadata": {}
  },
  {
   "cell_type": "code",
   "execution_count": 24,
   "source": [
    "# Material properties\n",
    "# YM: Young's Modulus [N/mm²]\n",
    "# v: Poisson's ratio\n",
    "# sigma_y: initial yield limit [N/mm²]\n",
    "E, v, sigma_y = 2e5, 0.3, 250\n",
    "\n",
    "## Isotropic hardening\n",
    "# Q_iso: Isotropic asymptote [ 80 N/mm²] \n",
    "# n_iso: exponent [3]\n",
    "# b_iso: growth rate [10]\n",
    "# D_iso: limit [170 N/mm²]\n",
    "Q_iso, n_iso, b_iso, D_iso = 50, 2, 100, 50\n",
    "\n",
    "## Kinematic hardening\n",
    "# Q_kin = Kinematic asymptote [N/mm²]\n",
    "# b_kin: growth rate\n",
    "Q_kin, b_kin = 0, 0"
   ],
   "outputs": [],
   "metadata": {}
  },
  {
   "cell_type": "markdown",
   "source": [
    "# Parameter $E$"
   ],
   "metadata": {}
  },
  {
   "cell_type": "code",
   "execution_count": 25,
   "source": [
    "number_of_samples = 5\n",
    "E_values = list(np.linspace(2e5,2.1e5,number_of_samples))\n",
    "\n",
    "'''\n",
    "Inputs:\n",
    "        0: Young's Modulus\n",
    "        1: initial yield limit\n",
    "        2: Q_iso\n",
    "        3: b_iso\n",
    "        4: n_iso\n",
    "        5: sigma_D\n",
    "        6: Q_kin\n",
    "        7: b_kin\n",
    "'''\n",
    "\n",
    "SampleSpace = np.array([ E_values, \n",
    "                         [sigma_y]*number_of_samples, \n",
    "                         [Q_iso]*number_of_samples, \n",
    "                         [b_iso]*number_of_samples, \n",
    "                         [n_iso]*number_of_samples, \n",
    "                         [D_iso]*number_of_samples, \n",
    "                         [Q_kin]*number_of_samples, \n",
    "                         [b_kin]*number_of_samples ])"
   ],
   "outputs": [],
   "metadata": {}
  },
  {
   "cell_type": "code",
   "execution_count": 26,
   "source": [
    "func_evaluations = generate_model_evaluations(model, t_min, t_max, delta_t, 'implicit', SampleSpace.T, parallel_computation = True)"
   ],
   "outputs": [],
   "metadata": {}
  },
  {
   "cell_type": "code",
   "execution_count": 27,
   "source": [
    "fig, ax = plt.subplots(figsize=(5,4))\n",
    "\n",
    "# Plot curves for various parameters\n",
    "for j, E in enumerate(E_values):\n",
    "    ax.plot(T, func_evaluations[:, j], label = r'$E$=' + str(E))\n",
    "\n",
    "textstr = '\\n'.join(( r'$n$=%.f' % (n_iso,),\n",
    "                      r'$\\sigma_y$=%.0f' % (sigma_y, ),\n",
    "                      r'$\\sigma_D$=%.0f' % (D_iso, ),\n",
    "                      r'$Q_{iso}$=%.f' % (Q_iso,),\n",
    "                      r'$b_{iso}$=%.f' % (b_iso,) ))\n",
    "\n",
    "# these are matplotlib.patch.Patch properties\n",
    "props = dict(facecolor='white', alpha=0.5)\n",
    "\n",
    "ax.text(0.4, 0.6, textstr, verticalalignment = 'baseline', transform=ax.transAxes, fontsize=10, bbox=props)\n",
    "\n",
    "ax.set_title(r'Stress v/s time')\n",
    "ax.set_xlabel('t in [s]')\n",
    "ax.set_ylabel(r'$\\sigma_{11} [N/mm^2]$')\n",
    "ax.set_ylim(0,1000)\n",
    "ax.grid()\n",
    "ax.legend()\n",
    "\n",
    "plt.savefig('Images/E.jpeg', bbox_inches = \"tight\", dpi = 300)\n",
    "\n",
    "\n",
    "plt.show()"
   ],
   "outputs": [
    {
     "output_type": "display_data",
     "data": {
      "text/plain": [
       "<Figure size 360x288 with 1 Axes>"
      ],
      "image/png": "[encoded data removed]"
     },
     "metadata": {
      "needs_background": "light"
     }
    }
   ],
   "metadata": {}
  },
  {
   "cell_type": "code",
   "execution_count": 28,
   "source": [
    "# Material properties\n",
    "# YM: Young's Modulus [N/mm²]\n",
    "# v: Poisson's ratio\n",
    "# sigma_y: initial yield limit [N/mm²]\n",
    "E, v, sigma_y = 2e5, 0.3, 250\n",
    "\n",
    "## Isotropic hardening\n",
    "# Q_iso: Isotropic asymptote [ 80 N/mm²] \n",
    "# n_iso: exponent [3]\n",
    "# b_iso: growth rate [10]\n",
    "# D_iso: limit [170 N/mm²]\n",
    "Q_iso, n_iso, b_iso, D_iso = 50, 2, 100, 50\n",
    "\n",
    "## Kinematic hardening\n",
    "# Q_kin = Kinematic asymptote [N/mm²]\n",
    "# b_kin: growth rate\n",
    "Q_kin, b_kin = 0, 0"
   ],
   "outputs": [],
   "metadata": {}
  },
  {
   "cell_type": "markdown",
   "source": [
    "# Parameter $Q_{kin}$"
   ],
   "metadata": {}
  },
  {
   "cell_type": "code",
   "execution_count": 29,
   "source": [
    "# number_of_samples = 5\n",
    "# Q_kin_values = list(np.linspace(0,500,number_of_samples))\n",
    "\n",
    "# '''\n",
    "# Inputs:\n",
    "#         0: Young's Modulus\n",
    "#         1: initial yield limit\n",
    "#         2: Q_iso\n",
    "#         3: b_iso\n",
    "#         4: n_iso\n",
    "#         5: sigma_D\n",
    "#         6: Q_kin\n",
    "#         7: b_kin\n",
    "# '''\n",
    "\n",
    "# SampleSpace = np.array([ [E]*number_of_samples, \n",
    "#                          [sigma_y]*number_of_samples, \n",
    "#                          [Q_iso]*number_of_samples, \n",
    "#                          [b_iso]*number_of_samples, \n",
    "#                          [n_iso]*number_of_samples, \n",
    "#                          [D_iso]*number_of_samples, \n",
    "#                          Q_kin_values, \n",
    "#                          [b_kin]*number_of_samples ])"
   ],
   "outputs": [],
   "metadata": {}
  },
  {
   "cell_type": "code",
   "execution_count": 30,
   "source": [
    "# func_evaluations = generate_model_evaluations(model, t_min, t_max, delta_t, 'implicit', SampleSpace.T, savefile = False)"
   ],
   "outputs": [],
   "metadata": {}
  },
  {
   "cell_type": "code",
   "execution_count": 31,
   "source": [
    "# fig, ax = plt.subplots(figsize=(5,4))\n",
    "\n",
    "# # Plot curves for various parameters\n",
    "# for j, Q_kin in enumerate(Q_kin_values):\n",
    "#     ax.plot(T, func_evaluations.T[:, j], label = r'$Q_{x}$=' + str(Q_kin))\n",
    "\n",
    "# textstr = '\\n'.join(( r'$E$=%.2e' % (E, ),\n",
    "#                       r'$n$=%.f' % (n_iso,),\n",
    "#                       r'$\\sigma_y$=%.0f' % (sigma_y, ),\n",
    "#                       r'$\\sigma_D$=%.0f' % (D_iso, ),\n",
    "#                       r'$Q_{iso}$=%.f' % (Q_iso,),\n",
    "#                       r'$b_{iso}$=%.f' % (b_iso,),\n",
    "#                       r'$b_x$=%.0f' % (b_kin, ) ))\n",
    "\n",
    "# # these are matplotlib.patch.Patch properties\n",
    "# props = dict(facecolor='white', alpha=0.5)\n",
    "\n",
    "# ax.text(0.4, 0.06, textstr, verticalalignment = 'baseline', transform=ax.transAxes, fontsize=10, bbox=props)\n",
    "\n",
    "# ax.set_title(r'Stress v/s time')\n",
    "# ax.set_xlabel('t in [s]')\n",
    "# ax.set_ylabel(r'$\\sigma_{11} [N/mm^2]$')\n",
    "# ax.set_ylim(0,1400)\n",
    "# ax.grid()\n",
    "# ax.legend()\n",
    "\n",
    "# plt.savefig('Q_kin.jpeg', bbox_inches = \"tight\", dpi = 300)\n",
    "\n",
    "# plt.show()"
   ],
   "outputs": [],
   "metadata": {}
  },
  {
   "cell_type": "markdown",
   "source": [
    "# Parameter $b_{kin}$"
   ],
   "metadata": {}
  },
  {
   "cell_type": "code",
   "execution_count": 32,
   "source": [
    "# number_of_samples = 5\n",
    "# b_kin_values = list(np.linspace(0,1000,number_of_samples))\n",
    "\n",
    "# '''\n",
    "# Inputs:\n",
    "#         0: Young's Modulus\n",
    "#         1: initial yield limit\n",
    "#         2: Q_iso\n",
    "#         3: b_iso\n",
    "#         4: n_iso\n",
    "#         5: sigma_D\n",
    "#         6: Q_kin\n",
    "#         7: b_kin\n",
    "# '''\n",
    "\n",
    "# SampleSpace = np.array([ [E]*number_of_samples, \n",
    "#                          [sigma_y]*number_of_samples, \n",
    "#                          [Q_iso]*number_of_samples, \n",
    "#                          [b_iso]*number_of_samples, \n",
    "#                          [n_iso]*number_of_samples, \n",
    "#                          [D_iso]*number_of_samples, \n",
    "#                          [Q_kin]*number_of_samples, \n",
    "#                          b_kin_values ])"
   ],
   "outputs": [],
   "metadata": {}
  },
  {
   "cell_type": "code",
   "execution_count": 33,
   "source": [
    "# func_evaluations = generate_model_evaluations(model, t_min, t_max, delta_t, 'implicit', SampleSpace.T, savefile = False)"
   ],
   "outputs": [],
   "metadata": {}
  },
  {
   "cell_type": "code",
   "execution_count": 34,
   "source": [
    "# fig, ax = plt.subplots(figsize=(5,4))\n",
    "\n",
    "# # Plot curves for various parameters\n",
    "# for j, b_kin in enumerate(b_kin_values):\n",
    "#     ax.plot(T, func_evaluations.T[:, j], label = r'$b_{x}$=' + str(b_kin))\n",
    "\n",
    "# textstr = '\\n'.join(( r'$E$=%.2e' % (E, ),\n",
    "#                       r'$n$=%.f' % (n_iso,),\n",
    "#                       r'$\\sigma_y$=%.0f' % (sigma_y, ),\n",
    "#                       r'$\\sigma_D$=%.0f' % (D_iso, ),\n",
    "#                       r'$Q_{iso}$=%.f' % (Q_iso,),\n",
    "#                       r'$b_{iso}$=%.f' % (b_iso,),\n",
    "#                       r'$Q_{kin}$=%.f' % (Q_kin,), ))\n",
    "\n",
    "# # these are matplotlib.patch.Patch properties\n",
    "# props = dict(facecolor='white', alpha=0.5)\n",
    "\n",
    "# ax.text(0.4, 0.06, textstr, verticalalignment = 'baseline', transform=ax.transAxes, fontsize=10, bbox=props)\n",
    "\n",
    "# ax.set_title(r'Stress v/s time')\n",
    "# ax.set_xlabel('t in [s]')\n",
    "# ax.set_ylabel(r'$\\sigma_{11} [N/mm^2]$')\n",
    "# ax.set_ylim(0,1400)\n",
    "# ax.grid()\n",
    "# ax.legend()\n",
    "\n",
    "# plt.savefig('b_kin.jpeg', bbox_inches = \"tight\", dpi = 300)\n",
    "\n",
    "# plt.show()"
   ],
   "outputs": [],
   "metadata": {}
  }
 ]
}